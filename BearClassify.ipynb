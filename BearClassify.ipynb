{
 "cells": [
  {
   "cell_type": "code",
   "execution_count": 1,
   "metadata": {
    "id": "4lprKdJzux5Y"
   },
   "outputs": [],
   "source": [
    "#!pip install voila\n",
    "#!jupyter serverextension enable --sys-prefix voila"
   ]
  },
  {
   "cell_type": "code",
   "execution_count": 2,
   "metadata": {
    "id": "YFXHYYuZu6Pm"
   },
   "outputs": [],
   "source": [
    "# !pip install -Uqq fastbook\n",
    "# import fastbook\n",
    "# fastbook.setup_book()"
   ]
  },
  {
   "cell_type": "code",
   "execution_count": 3,
   "metadata": {},
   "outputs": [],
   "source": [
    "#conda install -c anaconda ipywidgets"
   ]
  },
  {
   "cell_type": "code",
   "execution_count": 52,
   "metadata": {
    "id": "Rs_YDhXtvXm1"
   },
   "outputs": [],
   "source": [
    "#from fastbook import *\n",
    "from fastai.vision.all import *\n",
    "from fastai.vision.widgets import *\n",
    "import urllib.request"
   ]
  },
  {
   "cell_type": "code",
   "execution_count": 53,
   "metadata": {
    "id": "P260sajsvfp4"
   },
   "outputs": [],
   "source": [
    "path = Path()\n",
    "MODEL_URL = \"https://github.com/MReddyDS/sandbox/raw/main/BearClassification.pkl\"\n",
    "urllib.request.urlretrieve(MODEL_URL, \"model.pkl\")\n",
    "learn_inf = load_learner(\"model.pkl\")\n",
    "btn_upload = widgets.FileUpload()\n",
    "out_pl = widgets.Output()\n",
    "lbl_pred = widgets.Label()"
   ]
  },
  {
   "cell_type": "code",
   "execution_count": 54,
   "metadata": {
    "id": "zp1ztU21v5kO"
   },
   "outputs": [],
   "source": [
    "# reate event handler\n",
    "def on_click_classify(change):\n",
    "  lbl_pred.value = ''\n",
    "  img = PILImage.create(btn_upload.data[-1])\n",
    "  out_pl.clear_output()\n",
    "  with out_pl: display(img.to_thumb(128,128))\n",
    "  pred, prob_i, prob = learn_inf.predict(img)\n",
    "  lbl_pred.value=f'Prediction: {pred}; Probability: {prob[prob_i]:.04f}'\n"
   ]
  },
  {
   "cell_type": "code",
   "execution_count": 55,
   "metadata": {
    "id": "nIPkBA8FDOQU"
   },
   "outputs": [],
   "source": [
    "btn_upload.observe(on_click_classify, names=['data'])"
   ]
  },
  {
   "cell_type": "code",
   "execution_count": 56,
   "metadata": {
    "colab": {
     "base_uri": "https://localhost:8080/",
     "height": 173,
     "referenced_widgets": [
      "d668b6e83caa415698081aadb3571a0f",
      "b1cc362bbe364c0eb44c00c02b8a7055",
      "996d2a1471cd4d8d96d3f81a60802dee",
      "c1e6142b8ce14721999fa340e62e43b0",
      "253e2e735d324ecf8804613320689bff",
      "763a9184c7534fdbb2be7f10c99fc8ba",
      "a86f2c012fa240bda6848dd3d8214061",
      "373b677d04574896b01328da78eb91b1",
      "eba4310a266344698d2b0d7b75d6693a",
      "391766d0380c4ec2bd1c1ab0fa1b0b77",
      "8a0231d688254c0c94412246a39f0916",
      "165290e902ad4a55aa5cd7729a26a74f",
      "990a017646784821b1da09d64d32cef0"
     ]
    },
    "id": "pKdm1oxhwf49",
    "outputId": "7e94d87c-764a-4c61-bc78-55004ea34b07"
   },
   "outputs": [
    {
     "data": {
      "application/vnd.jupyter.widget-view+json": {
       "model_id": "a1dc386ba11b46b4ab9118f081c2b5ab",
       "version_major": 2,
       "version_minor": 0
      },
      "text/plain": [
       "VBox(children=(Label(value='Select your bear!'), FileUpload(value={}, description='Upload'), Output(), Label(v…"
      ]
     },
     "metadata": {},
     "output_type": "display_data"
    },
    {
     "data": {
      "text/html": [
       "\n",
       "<style>\n",
       "    /* Turns off some styling */\n",
       "    progress {\n",
       "        /* gets rid of default border in Firefox and Opera. */\n",
       "        border: none;\n",
       "        /* Needs to be in here for Safari polyfill so background images work as expected. */\n",
       "        background-size: auto;\n",
       "    }\n",
       "    .progress-bar-interrupted, .progress-bar-interrupted::-webkit-progress-bar {\n",
       "        background: #F44336;\n",
       "    }\n",
       "</style>\n"
      ],
      "text/plain": [
       "<IPython.core.display.HTML object>"
      ]
     },
     "metadata": {},
     "output_type": "display_data"
    },
    {
     "data": {
      "text/html": [],
      "text/plain": [
       "<IPython.core.display.HTML object>"
      ]
     },
     "metadata": {},
     "output_type": "display_data"
    }
   ],
   "source": [
    "display(VBox([widgets.Label('Select your bear!'), btn_upload, out_pl, lbl_pred]))"
   ]
  },
  {
   "cell_type": "code",
   "execution_count": null,
   "metadata": {},
   "outputs": [],
   "source": []
  }
 ],
 "metadata": {
  "colab": {
   "collapsed_sections": [],
   "name": "BearClassify.ipynb",
   "provenance": []
  },
  "kernelspec": {
   "display_name": "Python 3 (ipykernel)",
   "language": "python",
   "name": "python3"
  },
  "language_info": {
   "codemirror_mode": {
    "name": "ipython",
    "version": 3
   },
   "file_extension": ".py",
   "mimetype": "text/x-python",
   "name": "python",
   "nbconvert_exporter": "python",
   "pygments_lexer": "ipython3",
   "version": "3.7.13"
  },
  "widgets": {
   "application/vnd.jupyter.widget-state+json": {
    "165290e902ad4a55aa5cd7729a26a74f": {
     "model_module": "@jupyter-widgets/controls",
     "model_module_version": "1.5.0",
     "model_name": "DescriptionStyleModel",
     "state": {
      "_model_module": "@jupyter-widgets/controls",
      "_model_module_version": "1.5.0",
      "_model_name": "DescriptionStyleModel",
      "_view_count": null,
      "_view_module": "@jupyter-widgets/base",
      "_view_module_version": "1.2.0",
      "_view_name": "StyleView",
      "description_width": ""
     }
    },
    "253e2e735d324ecf8804613320689bff": {
     "model_module": "@jupyter-widgets/controls",
     "model_module_version": "1.5.0",
     "model_name": "LabelModel",
     "state": {
      "_dom_classes": [],
      "_model_module": "@jupyter-widgets/controls",
      "_model_module_version": "1.5.0",
      "_model_name": "LabelModel",
      "_view_count": null,
      "_view_module": "@jupyter-widgets/controls",
      "_view_module_version": "1.5.0",
      "_view_name": "LabelView",
      "description": "",
      "description_tooltip": null,
      "layout": "IPY_MODEL_8a0231d688254c0c94412246a39f0916",
      "placeholder": "​",
      "style": "IPY_MODEL_165290e902ad4a55aa5cd7729a26a74f",
      "value": "Prediction: black; Probability: 0.9999"
     }
    },
    "373b677d04574896b01328da78eb91b1": {
     "model_module": "@jupyter-widgets/controls",
     "model_module_version": "1.5.0",
     "model_name": "DescriptionStyleModel",
     "state": {
      "_model_module": "@jupyter-widgets/controls",
      "_model_module_version": "1.5.0",
      "_model_name": "DescriptionStyleModel",
      "_view_count": null,
      "_view_module": "@jupyter-widgets/base",
      "_view_module_version": "1.2.0",
      "_view_name": "StyleView",
      "description_width": ""
     }
    },
    "391766d0380c4ec2bd1c1ab0fa1b0b77": {
     "model_module": "@jupyter-widgets/controls",
     "model_module_version": "1.5.0",
     "model_name": "ButtonStyleModel",
     "state": {
      "_model_module": "@jupyter-widgets/controls",
      "_model_module_version": "1.5.0",
      "_model_name": "ButtonStyleModel",
      "_view_count": null,
      "_view_module": "@jupyter-widgets/base",
      "_view_module_version": "1.2.0",
      "_view_name": "StyleView",
      "button_color": null,
      "font_weight": ""
     }
    },
    "763a9184c7534fdbb2be7f10c99fc8ba": {
     "model_module": "@jupyter-widgets/base",
     "model_module_version": "1.2.0",
     "model_name": "LayoutModel",
     "state": {
      "_model_module": "@jupyter-widgets/base",
      "_model_module_version": "1.2.0",
      "_model_name": "LayoutModel",
      "_view_count": null,
      "_view_module": "@jupyter-widgets/base",
      "_view_module_version": "1.2.0",
      "_view_name": "LayoutView",
      "align_content": null,
      "align_items": null,
      "align_self": null,
      "border": null,
      "bottom": null,
      "display": null,
      "flex": null,
      "flex_flow": null,
      "grid_area": null,
      "grid_auto_columns": null,
      "grid_auto_flow": null,
      "grid_auto_rows": null,
      "grid_column": null,
      "grid_gap": null,
      "grid_row": null,
      "grid_template_areas": null,
      "grid_template_columns": null,
      "grid_template_rows": null,
      "height": null,
      "justify_content": null,
      "justify_items": null,
      "left": null,
      "margin": null,
      "max_height": null,
      "max_width": null,
      "min_height": null,
      "min_width": null,
      "object_fit": null,
      "object_position": null,
      "order": null,
      "overflow": null,
      "overflow_x": null,
      "overflow_y": null,
      "padding": null,
      "right": null,
      "top": null,
      "visibility": null,
      "width": null
     }
    },
    "8a0231d688254c0c94412246a39f0916": {
     "model_module": "@jupyter-widgets/base",
     "model_module_version": "1.2.0",
     "model_name": "LayoutModel",
     "state": {
      "_model_module": "@jupyter-widgets/base",
      "_model_module_version": "1.2.0",
      "_model_name": "LayoutModel",
      "_view_count": null,
      "_view_module": "@jupyter-widgets/base",
      "_view_module_version": "1.2.0",
      "_view_name": "LayoutView",
      "align_content": null,
      "align_items": null,
      "align_self": null,
      "border": null,
      "bottom": null,
      "display": null,
      "flex": null,
      "flex_flow": null,
      "grid_area": null,
      "grid_auto_columns": null,
      "grid_auto_flow": null,
      "grid_auto_rows": null,
      "grid_column": null,
      "grid_gap": null,
      "grid_row": null,
      "grid_template_areas": null,
      "grid_template_columns": null,
      "grid_template_rows": null,
      "height": null,
      "justify_content": null,
      "justify_items": null,
      "left": null,
      "margin": null,
      "max_height": null,
      "max_width": null,
      "min_height": null,
      "min_width": null,
      "object_fit": null,
      "object_position": null,
      "order": null,
      "overflow": null,
      "overflow_x": null,
      "overflow_y": null,
      "padding": null,
      "right": null,
      "top": null,
      "visibility": null,
      "width": null
     }
    },
    "990a017646784821b1da09d64d32cef0": {
     "model_module": "@jupyter-widgets/base",
     "model_module_version": "1.2.0",
     "model_name": "LayoutModel",
     "state": {
      "_model_module": "@jupyter-widgets/base",
      "_model_module_version": "1.2.0",
      "_model_name": "LayoutModel",
      "_view_count": null,
      "_view_module": "@jupyter-widgets/base",
      "_view_module_version": "1.2.0",
      "_view_name": "LayoutView",
      "align_content": null,
      "align_items": null,
      "align_self": null,
      "border": null,
      "bottom": null,
      "display": null,
      "flex": null,
      "flex_flow": null,
      "grid_area": null,
      "grid_auto_columns": null,
      "grid_auto_flow": null,
      "grid_auto_rows": null,
      "grid_column": null,
      "grid_gap": null,
      "grid_row": null,
      "grid_template_areas": null,
      "grid_template_columns": null,
      "grid_template_rows": null,
      "height": null,
      "justify_content": null,
      "justify_items": null,
      "left": null,
      "margin": null,
      "max_height": null,
      "max_width": null,
      "min_height": null,
      "min_width": null,
      "object_fit": null,
      "object_position": null,
      "order": null,
      "overflow": null,
      "overflow_x": null,
      "overflow_y": null,
      "padding": null,
      "right": null,
      "top": null,
      "visibility": null,
      "width": null
     }
    },
    "996d2a1471cd4d8d96d3f81a60802dee": {
     "model_module": "@jupyter-widgets/controls",
     "model_module_version": "1.5.0",
     "model_name": "FileUploadModel",
     "state": {
      "_counter": 1,
      "_dom_classes": [],
      "_model_module": "@jupyter-widgets/controls",
      "_model_module_version": "1.5.0",
      "_model_name": "FileUploadModel",
      "_view_count": null,
      "_view_module": "@jupyter-widgets/controls",
      "_view_module_version": "1.5.0",
      "_view_name": "FileUploadView",
      "accept": "",
      "button_style": "",
      "data": [
       null
      ],
      "description": "Upload",
      "description_tooltip": null,
      "disabled": false,
      "error": "",
      "icon": "upload",
      "layout": "IPY_MODEL_eba4310a266344698d2b0d7b75d6693a",
      "metadata": [
       {
        "lastModified": 1654794436222,
        "name": "3.jfif",
        "size": 7894,
        "type": "image/jpeg"
       }
      ],
      "multiple": false,
      "style": "IPY_MODEL_391766d0380c4ec2bd1c1ab0fa1b0b77"
     }
    },
    "a86f2c012fa240bda6848dd3d8214061": {
     "model_module": "@jupyter-widgets/base",
     "model_module_version": "1.2.0",
     "model_name": "LayoutModel",
     "state": {
      "_model_module": "@jupyter-widgets/base",
      "_model_module_version": "1.2.0",
      "_model_name": "LayoutModel",
      "_view_count": null,
      "_view_module": "@jupyter-widgets/base",
      "_view_module_version": "1.2.0",
      "_view_name": "LayoutView",
      "align_content": null,
      "align_items": null,
      "align_self": null,
      "border": null,
      "bottom": null,
      "display": null,
      "flex": null,
      "flex_flow": null,
      "grid_area": null,
      "grid_auto_columns": null,
      "grid_auto_flow": null,
      "grid_auto_rows": null,
      "grid_column": null,
      "grid_gap": null,
      "grid_row": null,
      "grid_template_areas": null,
      "grid_template_columns": null,
      "grid_template_rows": null,
      "height": null,
      "justify_content": null,
      "justify_items": null,
      "left": null,
      "margin": null,
      "max_height": null,
      "max_width": null,
      "min_height": null,
      "min_width": null,
      "object_fit": null,
      "object_position": null,
      "order": null,
      "overflow": null,
      "overflow_x": null,
      "overflow_y": null,
      "padding": null,
      "right": null,
      "top": null,
      "visibility": null,
      "width": null
     }
    },
    "b1cc362bbe364c0eb44c00c02b8a7055": {
     "model_module": "@jupyter-widgets/controls",
     "model_module_version": "1.5.0",
     "model_name": "LabelModel",
     "state": {
      "_dom_classes": [],
      "_model_module": "@jupyter-widgets/controls",
      "_model_module_version": "1.5.0",
      "_model_name": "LabelModel",
      "_view_count": null,
      "_view_module": "@jupyter-widgets/controls",
      "_view_module_version": "1.5.0",
      "_view_name": "LabelView",
      "description": "",
      "description_tooltip": null,
      "layout": "IPY_MODEL_a86f2c012fa240bda6848dd3d8214061",
      "placeholder": "​",
      "style": "IPY_MODEL_373b677d04574896b01328da78eb91b1",
      "value": "Select your bear!"
     }
    },
    "c1e6142b8ce14721999fa340e62e43b0": {
     "model_module": "@jupyter-widgets/output",
     "model_module_version": "1.0.0",
     "model_name": "OutputModel",
     "state": {
      "_dom_classes": [],
      "_model_module": "@jupyter-widgets/output",
      "_model_module_version": "1.0.0",
      "_model_name": "OutputModel",
      "_view_count": null,
      "_view_module": "@jupyter-widgets/output",
      "_view_module_version": "1.0.0",
      "_view_name": "OutputView",
      "layout": "IPY_MODEL_990a017646784821b1da09d64d32cef0",
      "msg_id": "",
      "outputs": [
       {
        "data": {
         "image/png": "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\n",
         "text/plain": "<PIL.Image.Image image mode=RGB size=128x60 at 0x7F79A55A5890>"
        },
        "metadata": {},
        "output_type": "display_data"
       }
      ]
     }
    },
    "d668b6e83caa415698081aadb3571a0f": {
     "model_module": "@jupyter-widgets/controls",
     "model_module_version": "1.5.0",
     "model_name": "VBoxModel",
     "state": {
      "_dom_classes": [],
      "_model_module": "@jupyter-widgets/controls",
      "_model_module_version": "1.5.0",
      "_model_name": "VBoxModel",
      "_view_count": null,
      "_view_module": "@jupyter-widgets/controls",
      "_view_module_version": "1.5.0",
      "_view_name": "VBoxView",
      "box_style": "",
      "children": [
       "IPY_MODEL_b1cc362bbe364c0eb44c00c02b8a7055",
       "IPY_MODEL_996d2a1471cd4d8d96d3f81a60802dee",
       "IPY_MODEL_c1e6142b8ce14721999fa340e62e43b0",
       "IPY_MODEL_253e2e735d324ecf8804613320689bff"
      ],
      "layout": "IPY_MODEL_763a9184c7534fdbb2be7f10c99fc8ba"
     }
    },
    "eba4310a266344698d2b0d7b75d6693a": {
     "model_module": "@jupyter-widgets/base",
     "model_module_version": "1.2.0",
     "model_name": "LayoutModel",
     "state": {
      "_model_module": "@jupyter-widgets/base",
      "_model_module_version": "1.2.0",
      "_model_name": "LayoutModel",
      "_view_count": null,
      "_view_module": "@jupyter-widgets/base",
      "_view_module_version": "1.2.0",
      "_view_name": "LayoutView",
      "align_content": null,
      "align_items": null,
      "align_self": null,
      "border": null,
      "bottom": null,
      "display": null,
      "flex": null,
      "flex_flow": null,
      "grid_area": null,
      "grid_auto_columns": null,
      "grid_auto_flow": null,
      "grid_auto_rows": null,
      "grid_column": null,
      "grid_gap": null,
      "grid_row": null,
      "grid_template_areas": null,
      "grid_template_columns": null,
      "grid_template_rows": null,
      "height": null,
      "justify_content": null,
      "justify_items": null,
      "left": null,
      "margin": null,
      "max_height": null,
      "max_width": null,
      "min_height": null,
      "min_width": null,
      "object_fit": null,
      "object_position": null,
      "order": null,
      "overflow": null,
      "overflow_x": null,
      "overflow_y": null,
      "padding": null,
      "right": null,
      "top": null,
      "visibility": null,
      "width": null
     }
    }
   }
  }
 },
 "nbformat": 4,
 "nbformat_minor": 1
}
