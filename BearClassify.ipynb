{
  "nbformat": 4,
  "nbformat_minor": 0,
  "metadata": {
    "colab": {
      "name": "BearClassify.ipynb",
      "provenance": [],
      "collapsed_sections": []
    },
    "kernelspec": {
      "name": "python3",
      "display_name": "Python 3"
    },
    "language_info": {
      "name": "python"
    }
  },
  "cells": [
    {
      "cell_type": "code",
      "execution_count": null,
      "metadata": {
        "id": "4lprKdJzux5Y"
      },
      "outputs": [],
      "source": [
        "# !pip install voila\n",
        "# !jupyter serverextension enable --sys-prefix voila"
      ]
    },
    {
      "cell_type": "code",
      "source": [
        "# !pip install -Uqq fastbook\n",
        "# import fastbook\n",
        "# fastbook.setup_book()"
      ],
      "metadata": {
        "id": "YFXHYYuZu6Pm"
      },
      "execution_count": null,
      "outputs": []
    },
    {
      "cell_type": "code",
      "source": [
        "#from fastbook import *\n",
        "from fastai.vision.all import *\n",
        "from fastai.vision.widgets import *"
      ],
      "metadata": {
        "id": "Rs_YDhXtvXm1"
      },
      "execution_count": 2,
      "outputs": []
    },
    {
      "cell_type": "code",
      "source": [
        "path = Path()\n",
        "learn_inf = load_learner(path/'BearClassification.pkl')"
      ],
      "metadata": {
        "id": "P260sajsvfp4"
      },
      "execution_count": null,
      "outputs": []
    },
    {
      "cell_type": "code",
      "source": [
        "## Upload image\n",
        "btn_upload = widgets.FileUpload()"
      ],
      "metadata": {
        "id": "_t1qaP7XvzzH"
      },
      "execution_count": null,
      "outputs": []
    },
    {
      "cell_type": "code",
      "source": [
        "## Output widgets\n",
        "out_pl = widgets.Output()\n",
        "out_pl.clear_output()\n",
        "#with out_pl: display(img.to_thumb(128,128))\n"
      ],
      "metadata": {
        "id": "Qm3MuNHjv5gm"
      },
      "execution_count": null,
      "outputs": []
    },
    {
      "cell_type": "code",
      "source": [
        "## run button\n",
        "btn_run = widgets.Button(description='Classify')"
      ],
      "metadata": {
        "id": "eQutQ4T-wKeP"
      },
      "execution_count": null,
      "outputs": []
    },
    {
      "cell_type": "code",
      "source": [
        "## output label\n",
        "lbl_pred = widgets.Label()"
      ],
      "metadata": {
        "id": "k1Te__lTwsrR"
      },
      "execution_count": null,
      "outputs": []
    },
    {
      "cell_type": "code",
      "source": [
        "# reate event handler\n",
        "def on_click_classify(change):\n",
        "  img = PILImage.create(btn_upload.data[-1])\n",
        "  out_pl.clear_output()\n",
        "  with out_pl: display(img.to_thumb(128,128))\n",
        "  pred, prob_i, prob = learn_inf.predict(img)\n",
        "  lbl_pred.value=f'Prediction: {pred}; Probability: {prob[prob_i]:.04f}'\n",
        "btn_run.on_click(on_click_classify)"
      ],
      "metadata": {
        "id": "zp1ztU21v5kO"
      },
      "execution_count": null,
      "outputs": []
    },
    {
      "cell_type": "code",
      "source": [
        "VBox([widgets.Label('Select your bear!'), btn_upload, btn_run, out_pl, lbl_pred])"
      ],
      "metadata": {
        "id": "pKdm1oxhwf49"
      },
      "execution_count": null,
      "outputs": []
    }
  ]
}