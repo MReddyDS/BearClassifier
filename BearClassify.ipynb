{
  "nbformat": 4,
  "nbformat_minor": 0,
  "metadata": {
    "colab": {
      "name": "BearClassify.ipynb",
      "provenance": [],
      "collapsed_sections": []
    },
    "kernelspec": {
      "name": "python3",
      "display_name": "Python 3"
    },
    "language_info": {
      "name": "python"
    },
    "widgets": {
      "application/vnd.jupyter.widget-state+json": {
        "5dcf9baaa00c456a84d348cb1d753ebb": {
          "model_module": "@jupyter-widgets/controls",
          "model_name": "VBoxModel",
          "model_module_version": "1.5.0",
          "state": {
            "_dom_classes": [],
            "_model_module": "@jupyter-widgets/controls",
            "_model_module_version": "1.5.0",
            "_model_name": "VBoxModel",
            "_view_count": null,
            "_view_module": "@jupyter-widgets/controls",
            "_view_module_version": "1.5.0",
            "_view_name": "VBoxView",
            "box_style": "",
            "children": [
              "IPY_MODEL_f46eb087db984034961da8850a2d59dc",
              "IPY_MODEL_5d06d1a6ffcd4cc0a9a6bea28718929d",
              "IPY_MODEL_95442290d1b44f98b9b5f415089385c5",
              "IPY_MODEL_17fcc1c73ec648e89741a1b923e05136"
            ],
            "layout": "IPY_MODEL_950e0b6697df4caf8b71a840f4f0ff8e"
          }
        },
        "f46eb087db984034961da8850a2d59dc": {
          "model_module": "@jupyter-widgets/controls",
          "model_name": "LabelModel",
          "model_module_version": "1.5.0",
          "state": {
            "_dom_classes": [],
            "_model_module": "@jupyter-widgets/controls",
            "_model_module_version": "1.5.0",
            "_model_name": "LabelModel",
            "_view_count": null,
            "_view_module": "@jupyter-widgets/controls",
            "_view_module_version": "1.5.0",
            "_view_name": "LabelView",
            "description": "",
            "description_tooltip": null,
            "layout": "IPY_MODEL_59fbb0bb32fb49498945d4086caf69d7",
            "placeholder": "​",
            "style": "IPY_MODEL_fb4c5fa85d4d49d3932295042c287fef",
            "value": "Select your bear!"
          }
        },
        "5d06d1a6ffcd4cc0a9a6bea28718929d": {
          "model_module": "@jupyter-widgets/controls",
          "model_name": "FileUploadModel",
          "model_module_version": "1.5.0",
          "state": {
            "_counter": 1,
            "_dom_classes": [],
            "_model_module": "@jupyter-widgets/controls",
            "_model_module_version": "1.5.0",
            "_model_name": "FileUploadModel",
            "_view_count": null,
            "_view_module": "@jupyter-widgets/controls",
            "_view_module_version": "1.5.0",
            "_view_name": "FileUploadView",
            "accept": "",
            "button_style": "",
            "data": [
              null
            ],
            "description": "Upload",
            "description_tooltip": null,
            "disabled": false,
            "error": "",
            "icon": "upload",
            "layout": "IPY_MODEL_9d0ea82d98d94606813ca59d59a56be0",
            "metadata": [
              {
                "name": "1.jfif",
                "type": "image/jpeg",
                "size": 4743,
                "lastModified": 1654794402870
              }
            ],
            "multiple": false,
            "style": "IPY_MODEL_2a57e1804eea43a4a9d5b5862876784b"
          }
        },
        "95442290d1b44f98b9b5f415089385c5": {
          "model_module": "@jupyter-widgets/output",
          "model_name": "OutputModel",
          "model_module_version": "1.0.0",
          "state": {
            "_dom_classes": [],
            "_model_module": "@jupyter-widgets/output",
            "_model_module_version": "1.0.0",
            "_model_name": "OutputModel",
            "_view_count": null,
            "_view_module": "@jupyter-widgets/output",
            "_view_module_version": "1.0.0",
            "_view_name": "OutputView",
            "layout": "IPY_MODEL_ac5f20c0f982445aaf6b163c40eb18a1",
            "msg_id": "",
            "outputs": [
              {
                "output_type": "display_data",
                "data": {
                  "text/plain": "<PIL.Image.Image image mode=RGB size=128x103 at 0x7F79A60003D0>",
                  "image/png": "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\n"
                },
                "metadata": {}
              }
            ]
          }
        },
        "17fcc1c73ec648e89741a1b923e05136": {
          "model_module": "@jupyter-widgets/controls",
          "model_name": "LabelModel",
          "model_module_version": "1.5.0",
          "state": {
            "_dom_classes": [],
            "_model_module": "@jupyter-widgets/controls",
            "_model_module_version": "1.5.0",
            "_model_name": "LabelModel",
            "_view_count": null,
            "_view_module": "@jupyter-widgets/controls",
            "_view_module_version": "1.5.0",
            "_view_name": "LabelView",
            "description": "",
            "description_tooltip": null,
            "layout": "IPY_MODEL_71e926ab3aa64e689ae54b5e57ee9357",
            "placeholder": "​",
            "style": "IPY_MODEL_406dc59d7e224674a9d76afa655b94a6",
            "value": "Prediction: grizzle; Probability: 1.0000"
          }
        },
        "950e0b6697df4caf8b71a840f4f0ff8e": {
          "model_module": "@jupyter-widgets/base",
          "model_name": "LayoutModel",
          "model_module_version": "1.2.0",
          "state": {
            "_model_module": "@jupyter-widgets/base",
            "_model_module_version": "1.2.0",
            "_model_name": "LayoutModel",
            "_view_count": null,
            "_view_module": "@jupyter-widgets/base",
            "_view_module_version": "1.2.0",
            "_view_name": "LayoutView",
            "align_content": null,
            "align_items": null,
            "align_self": null,
            "border": null,
            "bottom": null,
            "display": null,
            "flex": null,
            "flex_flow": null,
            "grid_area": null,
            "grid_auto_columns": null,
            "grid_auto_flow": null,
            "grid_auto_rows": null,
            "grid_column": null,
            "grid_gap": null,
            "grid_row": null,
            "grid_template_areas": null,
            "grid_template_columns": null,
            "grid_template_rows": null,
            "height": null,
            "justify_content": null,
            "justify_items": null,
            "left": null,
            "margin": null,
            "max_height": null,
            "max_width": null,
            "min_height": null,
            "min_width": null,
            "object_fit": null,
            "object_position": null,
            "order": null,
            "overflow": null,
            "overflow_x": null,
            "overflow_y": null,
            "padding": null,
            "right": null,
            "top": null,
            "visibility": null,
            "width": null
          }
        },
        "59fbb0bb32fb49498945d4086caf69d7": {
          "model_module": "@jupyter-widgets/base",
          "model_name": "LayoutModel",
          "model_module_version": "1.2.0",
          "state": {
            "_model_module": "@jupyter-widgets/base",
            "_model_module_version": "1.2.0",
            "_model_name": "LayoutModel",
            "_view_count": null,
            "_view_module": "@jupyter-widgets/base",
            "_view_module_version": "1.2.0",
            "_view_name": "LayoutView",
            "align_content": null,
            "align_items": null,
            "align_self": null,
            "border": null,
            "bottom": null,
            "display": null,
            "flex": null,
            "flex_flow": null,
            "grid_area": null,
            "grid_auto_columns": null,
            "grid_auto_flow": null,
            "grid_auto_rows": null,
            "grid_column": null,
            "grid_gap": null,
            "grid_row": null,
            "grid_template_areas": null,
            "grid_template_columns": null,
            "grid_template_rows": null,
            "height": null,
            "justify_content": null,
            "justify_items": null,
            "left": null,
            "margin": null,
            "max_height": null,
            "max_width": null,
            "min_height": null,
            "min_width": null,
            "object_fit": null,
            "object_position": null,
            "order": null,
            "overflow": null,
            "overflow_x": null,
            "overflow_y": null,
            "padding": null,
            "right": null,
            "top": null,
            "visibility": null,
            "width": null
          }
        },
        "fb4c5fa85d4d49d3932295042c287fef": {
          "model_module": "@jupyter-widgets/controls",
          "model_name": "DescriptionStyleModel",
          "model_module_version": "1.5.0",
          "state": {
            "_model_module": "@jupyter-widgets/controls",
            "_model_module_version": "1.5.0",
            "_model_name": "DescriptionStyleModel",
            "_view_count": null,
            "_view_module": "@jupyter-widgets/base",
            "_view_module_version": "1.2.0",
            "_view_name": "StyleView",
            "description_width": ""
          }
        },
        "9d0ea82d98d94606813ca59d59a56be0": {
          "model_module": "@jupyter-widgets/base",
          "model_name": "LayoutModel",
          "model_module_version": "1.2.0",
          "state": {
            "_model_module": "@jupyter-widgets/base",
            "_model_module_version": "1.2.0",
            "_model_name": "LayoutModel",
            "_view_count": null,
            "_view_module": "@jupyter-widgets/base",
            "_view_module_version": "1.2.0",
            "_view_name": "LayoutView",
            "align_content": null,
            "align_items": null,
            "align_self": null,
            "border": null,
            "bottom": null,
            "display": null,
            "flex": null,
            "flex_flow": null,
            "grid_area": null,
            "grid_auto_columns": null,
            "grid_auto_flow": null,
            "grid_auto_rows": null,
            "grid_column": null,
            "grid_gap": null,
            "grid_row": null,
            "grid_template_areas": null,
            "grid_template_columns": null,
            "grid_template_rows": null,
            "height": null,
            "justify_content": null,
            "justify_items": null,
            "left": null,
            "margin": null,
            "max_height": null,
            "max_width": null,
            "min_height": null,
            "min_width": null,
            "object_fit": null,
            "object_position": null,
            "order": null,
            "overflow": null,
            "overflow_x": null,
            "overflow_y": null,
            "padding": null,
            "right": null,
            "top": null,
            "visibility": null,
            "width": null
          }
        },
        "2a57e1804eea43a4a9d5b5862876784b": {
          "model_module": "@jupyter-widgets/controls",
          "model_name": "ButtonStyleModel",
          "model_module_version": "1.5.0",
          "state": {
            "_model_module": "@jupyter-widgets/controls",
            "_model_module_version": "1.5.0",
            "_model_name": "ButtonStyleModel",
            "_view_count": null,
            "_view_module": "@jupyter-widgets/base",
            "_view_module_version": "1.2.0",
            "_view_name": "StyleView",
            "button_color": null,
            "font_weight": ""
          }
        },
        "71e926ab3aa64e689ae54b5e57ee9357": {
          "model_module": "@jupyter-widgets/base",
          "model_name": "LayoutModel",
          "model_module_version": "1.2.0",
          "state": {
            "_model_module": "@jupyter-widgets/base",
            "_model_module_version": "1.2.0",
            "_model_name": "LayoutModel",
            "_view_count": null,
            "_view_module": "@jupyter-widgets/base",
            "_view_module_version": "1.2.0",
            "_view_name": "LayoutView",
            "align_content": null,
            "align_items": null,
            "align_self": null,
            "border": null,
            "bottom": null,
            "display": null,
            "flex": null,
            "flex_flow": null,
            "grid_area": null,
            "grid_auto_columns": null,
            "grid_auto_flow": null,
            "grid_auto_rows": null,
            "grid_column": null,
            "grid_gap": null,
            "grid_row": null,
            "grid_template_areas": null,
            "grid_template_columns": null,
            "grid_template_rows": null,
            "height": null,
            "justify_content": null,
            "justify_items": null,
            "left": null,
            "margin": null,
            "max_height": null,
            "max_width": null,
            "min_height": null,
            "min_width": null,
            "object_fit": null,
            "object_position": null,
            "order": null,
            "overflow": null,
            "overflow_x": null,
            "overflow_y": null,
            "padding": null,
            "right": null,
            "top": null,
            "visibility": null,
            "width": null
          }
        },
        "406dc59d7e224674a9d76afa655b94a6": {
          "model_module": "@jupyter-widgets/controls",
          "model_name": "DescriptionStyleModel",
          "model_module_version": "1.5.0",
          "state": {
            "_model_module": "@jupyter-widgets/controls",
            "_model_module_version": "1.5.0",
            "_model_name": "DescriptionStyleModel",
            "_view_count": null,
            "_view_module": "@jupyter-widgets/base",
            "_view_module_version": "1.2.0",
            "_view_name": "StyleView",
            "description_width": ""
          }
        },
        "ac5f20c0f982445aaf6b163c40eb18a1": {
          "model_module": "@jupyter-widgets/base",
          "model_name": "LayoutModel",
          "model_module_version": "1.2.0",
          "state": {
            "_model_module": "@jupyter-widgets/base",
            "_model_module_version": "1.2.0",
            "_model_name": "LayoutModel",
            "_view_count": null,
            "_view_module": "@jupyter-widgets/base",
            "_view_module_version": "1.2.0",
            "_view_name": "LayoutView",
            "align_content": null,
            "align_items": null,
            "align_self": null,
            "border": null,
            "bottom": null,
            "display": null,
            "flex": null,
            "flex_flow": null,
            "grid_area": null,
            "grid_auto_columns": null,
            "grid_auto_flow": null,
            "grid_auto_rows": null,
            "grid_column": null,
            "grid_gap": null,
            "grid_row": null,
            "grid_template_areas": null,
            "grid_template_columns": null,
            "grid_template_rows": null,
            "height": null,
            "justify_content": null,
            "justify_items": null,
            "left": null,
            "margin": null,
            "max_height": null,
            "max_width": null,
            "min_height": null,
            "min_width": null,
            "object_fit": null,
            "object_position": null,
            "order": null,
            "overflow": null,
            "overflow_x": null,
            "overflow_y": null,
            "padding": null,
            "right": null,
            "top": null,
            "visibility": null,
            "width": null
          }
        }
      }
    }
  },
  "cells": [
    {
      "cell_type": "code",
      "execution_count": null,
      "metadata": {
        "id": "4lprKdJzux5Y"
      },
      "outputs": [],
      "source": [
        "#!pip install voila\n",
        "#!jupyter serverextension enable --sys-prefix voila"
      ]
    },
    {
      "cell_type": "code",
      "source": [
        "# !pip install -Uqq fastbook\n",
        "# import fastbook\n",
        "# fastbook.setup_book()"
      ],
      "metadata": {
        "id": "YFXHYYuZu6Pm"
      },
      "execution_count": 2,
      "outputs": []
    },
    {
      "cell_type": "code",
      "source": [
        "#from fastbook import *\n",
        "from fastai.vision.all import *\n",
        "from fastai.vision.widgets import *"
      ],
      "metadata": {
        "id": "Rs_YDhXtvXm1"
      },
      "execution_count": 14,
      "outputs": []
    },
    {
      "cell_type": "code",
      "source": [
        "path = Path()\n",
        "learn_inf = load_learner(path/'BearClassification.pkl', cpu=True)\n",
        "btn_upload = widgets.FileUpload()\n",
        "out_pl = widgets.Output()\n",
        "lbl_pred = widgets.Label()"
      ],
      "metadata": {
        "id": "P260sajsvfp4"
      },
      "execution_count": 15,
      "outputs": []
    },
    {
      "cell_type": "code",
      "source": [
        "## run button\n",
        "btn_run = widgets.Button(description='Classify')"
      ],
      "metadata": {
        "id": "eQutQ4T-wKeP"
      },
      "execution_count": 16,
      "outputs": []
    },
    {
      "cell_type": "code",
      "source": [
        "# reate event handler\n",
        "def on_click_classify(change):\n",
        "  img = PILImage.create(btn_upload.data[-1])\n",
        "  out_pl.clear_output()\n",
        "  with out_pl: display(img.to_thumb(128,128))\n",
        "  pred, prob_i, prob = learn_inf.predict(img)\n",
        "  lbl_pred.value=f'Prediction: {pred}; Probability: {prob[prob_i]:.04f}'\n",
        "btn_run.on_click(on_click_classify)"
      ],
      "metadata": {
        "id": "zp1ztU21v5kO"
      },
      "execution_count": 17,
      "outputs": []
    },
    {
      "cell_type": "code",
      "source": [
        "btn_upload.observe(on_click_classify, names=['data'])"
      ],
      "metadata": {
        "id": "nIPkBA8FDOQU"
      },
      "execution_count": 18,
      "outputs": []
    },
    {
      "cell_type": "code",
      "source": [
        "VBox([widgets.Label('Select your bear!'), btn_upload, out_pl, lbl_pred])"
      ],
      "metadata": {
        "colab": {
          "base_uri": "https://localhost:8080/",
          "height": 216,
          "referenced_widgets": [
            "5dcf9baaa00c456a84d348cb1d753ebb",
            "f46eb087db984034961da8850a2d59dc",
            "5d06d1a6ffcd4cc0a9a6bea28718929d",
            "95442290d1b44f98b9b5f415089385c5",
            "17fcc1c73ec648e89741a1b923e05136",
            "950e0b6697df4caf8b71a840f4f0ff8e",
            "59fbb0bb32fb49498945d4086caf69d7",
            "fb4c5fa85d4d49d3932295042c287fef",
            "9d0ea82d98d94606813ca59d59a56be0",
            "2a57e1804eea43a4a9d5b5862876784b",
            "71e926ab3aa64e689ae54b5e57ee9357",
            "406dc59d7e224674a9d76afa655b94a6",
            "ac5f20c0f982445aaf6b163c40eb18a1"
          ]
        },
        "id": "pKdm1oxhwf49",
        "outputId": "ad2c5480-5913-4c83-c4b3-0c5d5b786385"
      },
      "execution_count": 19,
      "outputs": [
        {
          "output_type": "display_data",
          "data": {
            "text/plain": [
              "VBox(children=(Label(value='Select your bear!'), FileUpload(value={}, description='Upload'), Output(), Label(v…"
            ],
            "application/vnd.jupyter.widget-view+json": {
              "version_major": 2,
              "version_minor": 0,
              "model_id": "5dcf9baaa00c456a84d348cb1d753ebb"
            }
          },
          "metadata": {}
        },
        {
          "output_type": "display_data",
          "data": {
            "text/plain": [
              "<IPython.core.display.HTML object>"
            ],
            "text/html": [
              "\n",
              "<style>\n",
              "    /* Turns off some styling */\n",
              "    progress {\n",
              "        /* gets rid of default border in Firefox and Opera. */\n",
              "        border: none;\n",
              "        /* Needs to be in here for Safari polyfill so background images work as expected. */\n",
              "        background-size: auto;\n",
              "    }\n",
              "    .progress-bar-interrupted, .progress-bar-interrupted::-webkit-progress-bar {\n",
              "        background: #F44336;\n",
              "    }\n",
              "</style>\n"
            ]
          },
          "metadata": {}
        },
        {
          "output_type": "display_data",
          "data": {
            "text/plain": [
              "<IPython.core.display.HTML object>"
            ],
            "text/html": [
              ""
            ]
          },
          "metadata": {}
        }
      ]
    }
  ]
}